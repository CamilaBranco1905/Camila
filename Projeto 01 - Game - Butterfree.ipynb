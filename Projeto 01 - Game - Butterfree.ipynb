{
 "cells": [
  {
   "cell_type": "code",
   "execution_count": 89,
   "metadata": {},
   "outputs": [],
   "source": [
    "import random"
   ]
  },
  {
   "cell_type": "code",
   "execution_count": 84,
   "metadata": {},
   "outputs": [],
   "source": [
    "#This function shows a introduction message\n",
    "\n",
    "def introducao():\n",
    "    ''' abertura do jogo'''\n",
    "    print('''                           ╔════════════════◄••❀••►════════════════╗\n",
    "    \n",
    "\n",
    "◆◆ Olá buttergamer! \n",
    "\n",
    "\n",
    "Nós estamos em um bosque ecológico para borboletas ameaçadas de extinção.\n",
    "\n",
    "\n",
    "Aqui encontram-se espécies únicas, como o caso das Campoletas e das famílias das Pieridaes, Riodinidaes, \n",
    "\n",
    "Nymphalidaes, Lycaenidaes, Hesperiidaes e Papilionidaes.\n",
    "\n",
    "\n",
    "O local é aberto para o público, apesar de preservado, e muitos visitantes vão fazer picnic em companhia \n",
    "\n",
    "desses seres raros. Entretanto, alguém está mal intencionado! Um garotinho muito malvado aproveitou a \n",
    "\n",
    "distração dos guardas e usou copos voltados para baixo para prender algumas borboleta sem que ninguém percebesse.\n",
    "\n",
    "\n",
    "Ele pretende levá-las para casa e alimentar sua cobra de estimação da raça 'Pyhton' chamada Lord Voldemort.\n",
    "\n",
    "Você terá poucas chances antes Arthurzinho volte...\n",
    "\n",
    "\n",
    "\n",
    "Corra, você tem 5 chances para libertar três butterflies!\n",
    "\n",
    "\n",
    "É tudo ou nada, boa sorte!!! εїз  ƸӜƷ Ƹ̴Ӂ̴Ʒ\n",
    "\n",
    "\n",
    "                                        ╚════════════════◄••❀••►════════════════╝ ''')\n",
    "\n",
    "    "
   ]
  },
  {
   "cell_type": "code",
   "execution_count": 85,
   "metadata": {},
   "outputs": [],
   "source": [
    "#listing of empty cups or with butterfly inside\n",
    "\n",
    "def borboleta_presa():\n",
    "    lista_borboletas=[1,0,0,0,0,0,0,1,1]\n",
    "    random.shuffle(lista_borboletas)\n",
    "    return lista_borboletas\n"
   ]
  },
  {
   "cell_type": "code",
   "execution_count": 86,
   "metadata": {},
   "outputs": [],
   "source": [
    "#choosing the glass number\n",
    "\n",
    "def escolher_numero():\n",
    "    a = ''\n",
    "    while a.isdigit() == False:\n",
    "        a = input('Escolha o número do copo (de 1 a 9): ')\n",
    "        return int(a)"
   ]
  },
  {
   "cell_type": "code",
   "execution_count": 87,
   "metadata": {},
   "outputs": [],
   "source": [
    "#this function compares the list with the chosen number\n",
    "\n",
    "def funcao_comparacao(lista_borboleta, numero_escolhido):\n",
    "    if lista_borboleta[numero_escolhido - 1] == 1:\n",
    "        print('Você achou uma Butterfly!')\n",
    "        return 1\n",
    "    else:\n",
    "        print('Copo vazio! Tente novamente')\n",
    "        return 0"
   ]
  },
  {
   "cell_type": "code",
   "execution_count": 95,
   "metadata": {},
   "outputs": [
    {
     "name": "stdout",
     "output_type": "stream",
     "text": [
      "                           ╔════════════════◄••❀••►════════════════╗\n",
      "    \n",
      "\n",
      "◆◆ Olá buttergamer! \n",
      "\n",
      "\n",
      "Nós estamos em um bosque ecológico para borboletas ameaçadas de extinção.\n",
      "\n",
      "\n",
      "Aqui encontram-se espécies únicas, como o caso das Campoletas e das famílias das Pieridaes, Riodinidaes, \n",
      "\n",
      "Nymphalidaes, Lycaenidaes, Hesperiidaes e Papilionidaes.\n",
      "\n",
      "\n",
      "O local é aberto para o público, apesar de preservado, e muitos visitantes vão fazer picnic em companhia \n",
      "\n",
      "desses seres raros. Entretanto, alguém está mal intencionado! Um garotinho muito malvado aproveitou a \n",
      "\n",
      "distração dos guardas e usou copos voltados para baixo para prender algumas borboleta sem que ninguém percebesse.\n",
      "\n",
      "\n",
      "Ele pretende levá-las para casa e alimentar sua cobra de estimação da raça 'Pyhton' chamada Lord Voldemort.\n",
      "\n",
      "Você terá poucas chances antes Arthurzinho volte...\n",
      "\n",
      "\n",
      "\n",
      "Corra, você tem 5 chances para libertar três butterflies!\n",
      "\n",
      "\n",
      "É tudo ou nada, boa sorte!!! εїз  ƸӜƷ Ƹ̴Ӂ̴Ʒ\n",
      "\n",
      "\n",
      "                                        ╚════════════════◄••❀••►════════════════╝ \n",
      "Escolha o número do copo (de 1 a 9): 6\n",
      "Você achou uma Butterfly!\n",
      "Você está na rodada 1. Você já libertou 1 Borboletas!\n",
      "Escolha o número do copo (de 1 a 9): 5\n",
      "Você achou uma Butterfly!\n",
      "Você está na rodada 2. Você já libertou 2 Borboletas!\n",
      "Escolha o número do copo (de 1 a 9): 4\n",
      "Copo vazio! Tente novamente\n",
      "Você está na rodada 3. Você já libertou 2 Borboletas!\n",
      "Escolha o número do copo (de 1 a 9): 3\n",
      "Copo vazio! Tente novamente\n",
      "Você está na rodada 4. Você já libertou 2 Borboletas!\n",
      "Escolha o número do copo (de 1 a 9): 3\n",
      "Esse copo já foi escolhido!\n"
     ]
    },
    {
     "ename": "KeyboardInterrupt",
     "evalue": "Interrupted by user",
     "output_type": "error",
     "traceback": [
      "\u001b[1;31m---------------------------------------------------------------------------\u001b[0m",
      "\u001b[1;31mKeyboardInterrupt\u001b[0m                         Traceback (most recent call last)",
      "\u001b[1;32m<ipython-input-95-26d0f521ab5c>\u001b[0m in \u001b[0;36m<module>\u001b[1;34m\u001b[0m\n\u001b[0;32m     17\u001b[0m     \u001b[1;32mwhile\u001b[0m \u001b[0mnumero_escolhido\u001b[0m \u001b[1;32min\u001b[0m \u001b[0mlista_numero_escolhido\u001b[0m\u001b[1;33m:\u001b[0m\u001b[1;33m\u001b[0m\u001b[1;33m\u001b[0m\u001b[0m\n\u001b[0;32m     18\u001b[0m         \u001b[0mprint\u001b[0m\u001b[1;33m(\u001b[0m\u001b[1;34m'Esse copo já foi escolhido!'\u001b[0m\u001b[1;33m)\u001b[0m\u001b[1;33m\u001b[0m\u001b[1;33m\u001b[0m\u001b[0m\n\u001b[1;32m---> 19\u001b[1;33m         \u001b[0mnumero_escolhido\u001b[0m \u001b[1;33m=\u001b[0m \u001b[0mescolher_numero\u001b[0m\u001b[1;33m(\u001b[0m\u001b[1;33m)\u001b[0m\u001b[1;33m\u001b[0m\u001b[1;33m\u001b[0m\u001b[0m\n\u001b[0m\u001b[0;32m     20\u001b[0m \u001b[1;33m\u001b[0m\u001b[0m\n\u001b[0;32m     21\u001b[0m     \u001b[0mlista_numero_escolhido\u001b[0m\u001b[1;33m.\u001b[0m\u001b[0mappend\u001b[0m\u001b[1;33m(\u001b[0m\u001b[0mnumero_escolhido\u001b[0m\u001b[1;33m)\u001b[0m\u001b[1;33m\u001b[0m\u001b[1;33m\u001b[0m\u001b[0m\n",
      "\u001b[1;32m<ipython-input-86-c86fe779feee>\u001b[0m in \u001b[0;36mescolher_numero\u001b[1;34m()\u001b[0m\n\u001b[0;32m      4\u001b[0m     \u001b[0ma\u001b[0m \u001b[1;33m=\u001b[0m \u001b[1;34m''\u001b[0m\u001b[1;33m\u001b[0m\u001b[1;33m\u001b[0m\u001b[0m\n\u001b[0;32m      5\u001b[0m     \u001b[1;32mwhile\u001b[0m \u001b[0ma\u001b[0m\u001b[1;33m.\u001b[0m\u001b[0misdigit\u001b[0m\u001b[1;33m(\u001b[0m\u001b[1;33m)\u001b[0m \u001b[1;33m==\u001b[0m \u001b[1;32mFalse\u001b[0m\u001b[1;33m:\u001b[0m\u001b[1;33m\u001b[0m\u001b[1;33m\u001b[0m\u001b[0m\n\u001b[1;32m----> 6\u001b[1;33m         \u001b[0ma\u001b[0m \u001b[1;33m=\u001b[0m \u001b[0minput\u001b[0m\u001b[1;33m(\u001b[0m\u001b[1;34m'Escolha o número do copo (de 1 a 9): '\u001b[0m\u001b[1;33m)\u001b[0m\u001b[1;33m\u001b[0m\u001b[1;33m\u001b[0m\u001b[0m\n\u001b[0m\u001b[0;32m      7\u001b[0m         \u001b[1;32mreturn\u001b[0m \u001b[0mint\u001b[0m\u001b[1;33m(\u001b[0m\u001b[0ma\u001b[0m\u001b[1;33m)\u001b[0m\u001b[1;33m\u001b[0m\u001b[1;33m\u001b[0m\u001b[0m\n",
      "\u001b[1;32mc:\\users\\user\\appdata\\local\\programs\\python\\python37\\lib\\site-packages\\ipykernel\\kernelbase.py\u001b[0m in \u001b[0;36mraw_input\u001b[1;34m(self, prompt)\u001b[0m\n\u001b[0;32m    861\u001b[0m             \u001b[0mself\u001b[0m\u001b[1;33m.\u001b[0m\u001b[0m_parent_ident\u001b[0m\u001b[1;33m,\u001b[0m\u001b[1;33m\u001b[0m\u001b[1;33m\u001b[0m\u001b[0m\n\u001b[0;32m    862\u001b[0m             \u001b[0mself\u001b[0m\u001b[1;33m.\u001b[0m\u001b[0m_parent_header\u001b[0m\u001b[1;33m,\u001b[0m\u001b[1;33m\u001b[0m\u001b[1;33m\u001b[0m\u001b[0m\n\u001b[1;32m--> 863\u001b[1;33m             \u001b[0mpassword\u001b[0m\u001b[1;33m=\u001b[0m\u001b[1;32mFalse\u001b[0m\u001b[1;33m,\u001b[0m\u001b[1;33m\u001b[0m\u001b[1;33m\u001b[0m\u001b[0m\n\u001b[0m\u001b[0;32m    864\u001b[0m         )\n\u001b[0;32m    865\u001b[0m \u001b[1;33m\u001b[0m\u001b[0m\n",
      "\u001b[1;32mc:\\users\\user\\appdata\\local\\programs\\python\\python37\\lib\\site-packages\\ipykernel\\kernelbase.py\u001b[0m in \u001b[0;36m_input_request\u001b[1;34m(self, prompt, ident, parent, password)\u001b[0m\n\u001b[0;32m    902\u001b[0m             \u001b[1;32mexcept\u001b[0m \u001b[0mKeyboardInterrupt\u001b[0m\u001b[1;33m:\u001b[0m\u001b[1;33m\u001b[0m\u001b[1;33m\u001b[0m\u001b[0m\n\u001b[0;32m    903\u001b[0m                 \u001b[1;31m# re-raise KeyboardInterrupt, to truncate traceback\u001b[0m\u001b[1;33m\u001b[0m\u001b[1;33m\u001b[0m\u001b[1;33m\u001b[0m\u001b[0m\n\u001b[1;32m--> 904\u001b[1;33m                 \u001b[1;32mraise\u001b[0m \u001b[0mKeyboardInterrupt\u001b[0m\u001b[1;33m(\u001b[0m\u001b[1;34m\"Interrupted by user\"\u001b[0m\u001b[1;33m)\u001b[0m \u001b[1;32mfrom\u001b[0m \u001b[1;32mNone\u001b[0m\u001b[1;33m\u001b[0m\u001b[1;33m\u001b[0m\u001b[0m\n\u001b[0m\u001b[0;32m    905\u001b[0m             \u001b[1;32mexcept\u001b[0m \u001b[0mException\u001b[0m \u001b[1;32mas\u001b[0m \u001b[0me\u001b[0m\u001b[1;33m:\u001b[0m\u001b[1;33m\u001b[0m\u001b[1;33m\u001b[0m\u001b[0m\n\u001b[0;32m    906\u001b[0m                 \u001b[0mself\u001b[0m\u001b[1;33m.\u001b[0m\u001b[0mlog\u001b[0m\u001b[1;33m.\u001b[0m\u001b[0mwarning\u001b[0m\u001b[1;33m(\u001b[0m\u001b[1;34m\"Invalid Message:\"\u001b[0m\u001b[1;33m,\u001b[0m \u001b[0mexc_info\u001b[0m\u001b[1;33m=\u001b[0m\u001b[1;32mTrue\u001b[0m\u001b[1;33m)\u001b[0m\u001b[1;33m\u001b[0m\u001b[1;33m\u001b[0m\u001b[0m\n",
      "\u001b[1;31mKeyboardInterrupt\u001b[0m: Interrupted by user"
     ]
    }
   ],
   "source": [
    "#the game rotation\n",
    "\n",
    "introducao()\n",
    "\n",
    "borboleta_solta = 0\n",
    "rodadas = 0\n",
    "lista_numero_escolhido = []\n",
    "lista_borboleta = borboleta_presa()\n",
    "\n",
    "\n",
    "while rodadas < 5:\n",
    "    \n",
    "    \n",
    "    numero_escolhido = escolher_numero()\n",
    "    \n",
    "    \n",
    "    while numero_escolhido in lista_numero_escolhido:\n",
    "        print('Esse copo já foi escolhido!')\n",
    "        numero_escolhido = escolher_numero()\n",
    "    \n",
    "    lista_numero_escolhido.append(numero_escolhido)\n",
    "    \n",
    "    \n",
    "    resultado = funcao_comparacao(lista_borboleta, numero_escolhido)\n",
    "\n",
    "    rodadas +=1\n",
    "    \n",
    "    if resultado == 1:\n",
    "        borboleta_solta += 1\n",
    "    \n",
    "    if borboleta_solta == 3:\n",
    "        print('Você ganhou! Todas as borboletas foram libertas! O mundo é melhor com você ')\n",
    "        break\n",
    " \n",
    "    print(f'Você está na rodada {rodadas}. Você já libertou {borboleta_solta} Borboletas!')\n",
    "\n",
    "\n",
    "if rodadas == 5:\n",
    "    print('Você Perdeu! A Python Valdemort vai jantar borboletinhas! Nem Harry Potter poderá salvá-las')\n",
    "\n",
    "        "
   ]
  },
  {
   "cell_type": "code",
   "execution_count": null,
   "metadata": {},
   "outputs": [],
   "source": []
  },
  {
   "cell_type": "code",
   "execution_count": null,
   "metadata": {},
   "outputs": [],
   "source": [
    "#nao "
   ]
  }
 ],
 "metadata": {
  "kernelspec": {
   "display_name": "Python 3",
   "language": "python",
   "name": "python3"
  },
  "language_info": {
   "codemirror_mode": {
    "name": "ipython",
    "version": 3
   },
   "file_extension": ".py",
   "mimetype": "text/x-python",
   "name": "python",
   "nbconvert_exporter": "python",
   "pygments_lexer": "ipython3",
   "version": "3.7.6"
  },
  "toc": {
   "base_numbering": 1,
   "nav_menu": {},
   "number_sections": true,
   "sideBar": true,
   "skip_h1_title": false,
   "title_cell": "Table of Contents",
   "title_sidebar": "Contents",
   "toc_cell": false,
   "toc_position": {},
   "toc_section_display": true,
   "toc_window_display": false
  }
 },
 "nbformat": 4,
 "nbformat_minor": 4
}
